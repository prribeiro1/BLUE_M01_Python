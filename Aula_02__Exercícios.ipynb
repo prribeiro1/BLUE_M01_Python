{
  "nbformat": 4,
  "nbformat_minor": 0,
  "metadata": {
    "colab": {
      "name": "Aula_02 _Exercícios.ipynb",
      "provenance": [],
      "collapsed_sections": [],
      "authorship_tag": "ABX9TyPaoVXo2SDY6bMEuGUgoJVp",
      "include_colab_link": true
    },
    "kernelspec": {
      "name": "python3",
      "display_name": "Python 3"
    },
    "language_info": {
      "name": "python"
    }
  },
  "cells": [
    {
      "cell_type": "markdown",
      "metadata": {
        "id": "view-in-github",
        "colab_type": "text"
      },
      "source": [
        "<a href=\"https://colab.research.google.com/github/prribeiro1/exerc-cios-python/blob/main/Aula_02__Exerc%C3%ADcios.ipynb\" target=\"_parent\"><img src=\"https://colab.research.google.com/assets/colab-badge.svg\" alt=\"Open In Colab\"/></a>"
      ]
    },
    {
      "cell_type": "code",
      "metadata": {
        "colab": {
          "base_uri": "https://localhost:8080/"
        },
        "id": "jwSu5aJW7ngW",
        "outputId": "740867b2-cc79-4440-b127-8fd6f06ecd6a"
      },
      "source": [
        "print('O primeiro programa a gente nunca esquece!')"
      ],
      "execution_count": null,
      "outputs": [
        {
          "output_type": "stream",
          "text": [
            "O primeiro programa a gente nunca esquece!\n"
          ],
          "name": "stdout"
        }
      ]
    },
    {
      "cell_type": "code",
      "metadata": {
        "colab": {
          "base_uri": "https://localhost:8080/"
        },
        "id": "zwNmcSuw71Hk",
        "outputId": "8b9042d5-4c49-491b-e8d3-4d86bcaacd95"
      },
      "source": [
        "nome = 'Paulo Ricardo de Menezes Ribeiro'\n",
        "endereco = 'Rua Luiz de Moura Pinheiro'\n",
        "cep = '28640-000 / 999298128'\n",
        "\n",
        "print(f'Meu nome é: {nome}\\nEndereço: {endereco}\\nCEP e TEL: {cep}')"
      ],
      "execution_count": null,
      "outputs": [
        {
          "output_type": "stream",
          "text": [
            "Meu nome é: Paulo Ricardo de Menezes Ribeiro\n",
            "Endereço: Rua Luiz de Moura Pinheiro\n",
            "CEP e TEL: 28640-000 / 999298128\n"
          ],
          "name": "stdout"
        }
      ]
    },
    {
      "cell_type": "code",
      "metadata": {
        "colab": {
          "base_uri": "https://localhost:8080/"
        },
        "id": "UMK7uUel83YB",
        "outputId": "7246cbda-1e52-40f5-a0d1-009bcea1e74b"
      },
      "source": [
        "letra = 'Meu Deus é: Deus de milagres, Deus de promessas, caminho no deserto, luz na escuridão, Meu Deus, esse é quem Tu és!'\n",
        "\n",
        "print(f'Letra musical que eu gosto: {letra}')"
      ],
      "execution_count": null,
      "outputs": [
        {
          "output_type": "stream",
          "text": [
            "Letra musical que eu gosto: Meu Deus é: Deus de milagres, Deus de promessas, caminho no deserto, luz na escuridão, Meu Deus, esse é quem Tu és!\n"
          ],
          "name": "stdout"
        }
      ]
    },
    {
      "cell_type": "code",
      "metadata": {
        "colab": {
          "base_uri": "https://localhost:8080/"
        },
        "id": "3HmHHWgq-Rq9",
        "outputId": "761b9cc7-19ab-47e2-f5f4-daebac17dcce"
      },
      "source": [
        "aluno1 = 'Aline'\n",
        "aluno2 = 'Mário'\n",
        "aluno3 = 'Sérgio'\n",
        "aluno4 = 'Shirley'\n",
        "\n",
        "nota1 = 9.0\n",
        "nota2 = 'DEZ'\n",
        "nota3 = 4.5\n",
        "nota4 = 7.0\n",
        "\n",
        "print(f'As notas são:\\n{aluno1}   {nota1}\\n{aluno2}   {nota2}\\n{aluno3}   {nota3}\\n{aluno4}   {nota4}')"
      ],
      "execution_count": null,
      "outputs": [
        {
          "output_type": "stream",
          "text": [
            "As notas são:\n",
            "Aline   9.0\n",
            "Mário   DEZ\n",
            "Sérgio   4.5\n",
            "Shirley   7.0\n"
          ],
          "name": "stdout"
        }
      ]
    },
    {
      "cell_type": "code",
      "metadata": {
        "colab": {
          "base_uri": "https://localhost:8080/"
        },
        "id": "tmfmP-QqBHtX",
        "outputId": "279e045a-709f-4170-b5f0-44303652c4bc"
      },
      "source": [
        "n1 = 0\n",
        "n2 = 1\n",
        "n3 = 2\n",
        "n4 = 3\n",
        "n5 = 4\n",
        "\n",
        "nota1 = 'Fim'\n",
        "nota2 = 'Inclui'\n",
        "nota3 = 'Altere'\n",
        "nota4 = 'Exclui'\n",
        "nota5 = 'Consulta'\n",
        "\n",
        "\n",
        "print(f'Cadastro de Clientes\\n{n1} - {nota1}\\n{n2} - {nota2}\\n{n3} - {nota3}\\n{n4} - {nota4}\\n{n5} - {nota5}')\n",
        "\n",
        "\n",
        "opcao = input('Digite uma opção de 0 à 4:  ')\n",
        "\n",
        "print(f'Você escolheu a opção: {opcao}')"
      ],
      "execution_count": null,
      "outputs": [
        {
          "output_type": "stream",
          "text": [
            "Cadastro de Clientes\n",
            "0 - Fim\n",
            "1 - Inclui\n",
            "2 - Altere\n",
            "3 - Exclui\n",
            "4 - Consulta\n",
            "Digite uma opção de 0 à 4:  0\n",
            "Você escolheu a opção: 0\n"
          ],
          "name": "stdout"
        }
      ]
    },
    {
      "cell_type": "code",
      "metadata": {
        "colab": {
          "base_uri": "https://localhost:8080/"
        },
        "id": "hn5E2yf2Cjza",
        "outputId": "9a302126-1d35-4bf2-e94c-85eb75afb0a4"
      },
      "source": [
        "from math import ceil\n",
        "vida = int(input('Digite a vida do monstro de 10 à 50: '))\n",
        "ataque = int(input('Digite o valor do ataque de 5 à 10: '))\n",
        "resultado = ceil (vida / ataque)\n",
        "\n",
        "print(f'O jogador irá derrotar o monstro em {resultado} turnos')"
      ],
      "execution_count": 3,
      "outputs": [
        {
          "output_type": "stream",
          "text": [
            "Digite a vida do monstro de 10 à 50: 37\n",
            "Digite o valor do ataque de 5 à 10: 7\n",
            "O jogador irá derrotar o monstro em 6 turnos\n"
          ],
          "name": "stdout"
        }
      ]
    },
    {
      "cell_type": "code",
      "metadata": {
        "colab": {
          "base_uri": "https://localhost:8080/"
        },
        "id": "OXQg-L5DKc9E",
        "outputId": "d3000e84-a5f5-4fa2-c2a6-d385145d2bde"
      },
      "source": [
        "refeicao = 42.54\n",
        "taxa = 1.1\n",
        "resultado = refeicao * taxa\n",
        "\n",
        "print(f'A conta deu: R${resultado:.2f}')"
      ],
      "execution_count": null,
      "outputs": [
        {
          "output_type": "stream",
          "text": [
            "A conta deu: R$46.79\n"
          ],
          "name": "stdout"
        }
      ]
    },
    {
      "cell_type": "code",
      "metadata": {
        "colab": {
          "base_uri": "https://localhost:8080/"
        },
        "id": "VHpYGkFgQ7wd",
        "outputId": "0bd22964-5615-44c5-c963-26b54be500fa"
      },
      "source": [
        "custou = 100.98\n",
        "pagou = 150\n",
        "troco = round(pagou - custou)\n",
        "\n",
        "print(f'O troco é de: {troco}')"
      ],
      "execution_count": null,
      "outputs": [
        {
          "output_type": "stream",
          "text": [
            "O troco é de: 49\n"
          ],
          "name": "stdout"
        }
      ]
    },
    {
      "cell_type": "code",
      "metadata": {
        "colab": {
          "base_uri": "https://localhost:8080/"
        },
        "id": "-Nk1g8yUUdj-",
        "outputId": "75423236-063e-4939-8732-50cc4282b311"
      },
      "source": [
        "ano_nasc = 1989\n",
        "ano_atual = 2021\n",
        "idade = ano_atual - ano_nasc\n",
        "\n",
        "print(f'{idade}, você está na flor da idade')"
      ],
      "execution_count": null,
      "outputs": [
        {
          "output_type": "stream",
          "text": [
            "32, você está na flor da idade\n"
          ],
          "name": "stdout"
        }
      ]
    },
    {
      "cell_type": "code",
      "metadata": {
        "colab": {
          "base_uri": "https://localhost:8080/"
        },
        "id": "xNMMnH2pVDa1",
        "outputId": "c9351d30-9a9d-4247-a555-ce9c6f676f83"
      },
      "source": [
        "real = float(input('Digite o valor em Real: R$ '))\n",
        "dolar = real / 5.04\n",
        "euro = real / 6.13\n",
        "libra = real / 7.13\n",
        "dolar_canadense = real / 4.16\n",
        "peso_argentino = real / 0.053\n",
        "peso_chileno = real / 0.0070\n",
        "\n",
        "print(f'Dolar  ${dolar:.2f}\\nEuro  ${euro:.2f}\\nLibra  ${libra:.2f}\\nDolar Canadense  ${dolar_canadense:.2f}\\nPeso Argentino  ${peso_argentino:.2f}\\nPeso Chileno  ${peso_chileno:.2f}')\n",
        "\n"
      ],
      "execution_count": null,
      "outputs": [
        {
          "output_type": "stream",
          "text": [
            "Digite o valor em Real: R$ 100\n",
            "Dolar  $19.84\n",
            "Euro  $16.31\n",
            "Libra  $14.03\n",
            "Dolar Canadense  $24.04\n",
            "Peso Argentino  $1886.79\n",
            "Peso Chileno  $14285.71\n"
          ],
          "name": "stdout"
        }
      ]
    },
    {
      "cell_type": "code",
      "metadata": {
        "colab": {
          "base_uri": "https://localhost:8080/"
        },
        "id": "TmRm_qEQXvew",
        "outputId": "2ace3a88-6309-4c04-8e08-e95cd298305a"
      },
      "source": [
        "valor = float(input('Digite o valor do aluguel: R$ '))\n",
        "reajuste = 1.31\n",
        "valor_reajustado = valor * reajuste\n",
        "\n",
        "print(f'O valor reajustado é de: R$ {valor_reajustado:.2f}')"
      ],
      "execution_count": 5,
      "outputs": [
        {
          "output_type": "stream",
          "text": [
            "Digite o valor do aluguel: R$ 1000\n",
            "O valor reajustado é de: R$ 1310.00\n"
          ],
          "name": "stdout"
        }
      ]
    },
    {
      "cell_type": "code",
      "metadata": {
        "colab": {
          "base_uri": "https://localhost:8080/"
        },
        "id": "Z__QJq9mZeBI",
        "outputId": "2d51dd16-f9c0-4cda-9b62-c322ae3d66ba"
      },
      "source": [
        "valor = float(input('Digite o valor do aluguel: R$ '))\n",
        "reajuste = 1.31\n",
        "percentual_do_reajuste = int(input('Digite o valor do percentual: '))\n",
        "valor_reajustado = valor * reajuste\n",
        "\n",
        "print(f'Percentual do reajuste: {percentual_do_reajuste}%\\nO valor reajustado é de: R$ {valor_reajustado:.2f}')"
      ],
      "execution_count": 7,
      "outputs": [
        {
          "output_type": "stream",
          "text": [
            "Digite o valor do aluguel: R$ 1000\n",
            "Digite o valor do percentual: 31\n",
            "Percentual do reajuste: 31%\n",
            "O valor reajustado é de: R$ 1310.00\n"
          ],
          "name": "stdout"
        }
      ]
    }
  ]
}
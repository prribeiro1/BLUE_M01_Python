{
  "nbformat": 4,
  "nbformat_minor": 0,
  "metadata": {
    "colab": {
      "name": "Projeto_01.ipynb",
      "provenance": [],
      "collapsed_sections": [],
      "include_colab_link": true
    },
    "kernelspec": {
      "name": "python3",
      "display_name": "Python 3"
    },
    "language_info": {
      "name": "python"
    }
  },
  "cells": [
    {
      "cell_type": "markdown",
      "metadata": {
        "id": "view-in-github",
        "colab_type": "text"
      },
      "source": [
        "<a href=\"https://colab.research.google.com/github/prribeiro1/exerc-cios-python/blob/main/Projeto_Detetive_01.ipynb\" target=\"_parent\"><img src=\"https://colab.research.google.com/assets/colab-badge.svg\" alt=\"Open In Colab\"/></a>"
      ]
    },
    {
      "cell_type": "code",
      "metadata": {
        "id": "ibLWuLiADkxz"
      },
      "source": [
        "from time import sleep\n",
        "\n",
        "print('\\033[34m'+'Olá, eu sou o\\033[0;0m \\033[94m'+'DDT1-V\\033[0;0m')\n",
        "\n",
        "print('''\n",
        "\n",
        "\n",
        "  .OOOOOOOOOOOOOOO @@                                   @@ OOOOOOOOOOOOOOOO.\n",
        "  OOOOOOOOOOOOOOOO @@                                    @@ OOOOOOOOOOOOOOOO\n",
        "  OOOOOOOOOO'''''' @@                                    @@ ```````OOOOOOOOO\n",
        "  OOOOO'' aaa@@@@@@@@@@@@@@@@@@@@\"\"\"                   \"\"\"\"\"\"\"\"\"@@aaaa `OOOO\n",
        "  OOOOO,\"\"\"\"@@@@@@@@@@@@@@\"\"\"\"                                     a@\"\" OOOA\n",
        "  OOOOOOOOOoooooo,                                            |OOoooooOOOOOS\n",
        "  OOOOOOOOOOOOOOOOo,                                          |OOOOOOOOOOOOC\n",
        "  OOOOOOOOOOOOOOOOOO                                         ,|OOOOOOOOOOOOI\n",
        "  OOOOOOOOOOOOOOOOOO @                                       |OOOOOOOOOOOOOI\n",
        "  OOOOOOOOOOOOOOOOO'@                                        OOOOOOOOOOOOOOb\n",
        "  OOOOOOOOOOOOOOO'a'                                         |OOOOOOOOOOOOOy\n",
        "  OOOOOOOOOOOOOO''                                         aa`OOOOOOOOOOOP\n",
        "  OOOOOOOOOOOOOOb,..                                          `@aa``OOOOOOOh\n",
        "  OOOOOOOOOOOOOOOOOOo                                           `@@@aa OOOOo\n",
        "  OOOOOOOOOOOOOOOOOOO|                                             @@@ OOOOe\n",
        "  OOOOOOOOOOOOOOOOOOO@                               aaaaaaa       @@',OOOOn\n",
        "  OOOOOOOOOOOOOOOOOOO@                        aaa@@@@@@@@\"\"        @@ OOOOOi\n",
        "  OOOOOOOOOO~~ aaaaaa\"a                 aaa@@@@@@@@@@\"\"            @@ OOOOOx\n",
        "  OOOOOO aaaa@\"\"\"\"\"\"\"\" \"\"            @@@@@@@@@@@@\"\"               @@@|`OOOO'\n",
        "  OOOOOOOo`@@a                  aa@@  @@@@@@@\"\"         a@        @@@@ OOOO9\n",
        "  OOOOOOO'  `@@a               @@a@@   @@\"\"           a@@   a     |@@@ OOOO3\n",
        "  `OOOO'       `@    aa@@       aaa\"\"\"          @a        a@     a@@@',OOOO'\n",
        "''')\n",
        "\n",
        "\n",
        "print('\\033[34m'+'sou o detetive encarregado desse caso e conto com sua colaboração para solucioná-lo\\033[0;0m\\n')\n",
        "sleep(1)\n",
        "print('\\033[91m'+'Vamos às perguntas então:\\033[0;0m')\n",
        "sleep(1)\n",
        "print('\\033[94m'+'PROCESSANDO...\\033[0;0m\\n\\n')\n",
        "sleep(2)\n",
        "\n",
        "\n",
        "\n",
        "\n",
        "p1 = input('Você telefonou para a vítima? [sim/não] ').lower().strip()\n",
        "p2 = input('Você esteve no local do crime? [sim/não] ').lower().strip()\n",
        "p3 = input('Você mora perto da vítima? [sim/não] ').lower().strip()\n",
        "p4 = input('Você devia para a vítima? [sim/não] ').lower().strip()\n",
        "p5 = input('Você já trabalhou com a vítima? [sim/não] ').lower().strip()\n",
        "\n",
        "count = 0\n",
        "\n",
        "if p1 == 'sim':\n",
        "  count += 1\n",
        "  if p2 == 'sim':\n",
        "    count += 1\n",
        "    if p3 == 'sim':\n",
        "      count +=  1\n",
        "      if p4 == 'sim':\n",
        "        count += 1\n",
        "        if p5 == 'sim':\n",
        "          count += 1\n",
        "\n",
        "if count == 2:\n",
        "  print('\\033[33m'+'Suspeita\\033[0;0m')\n",
        "elif count == 3 or count == 4:\n",
        "    print('\\033[31m'+'Cúmplice\\033[0;0m')\n",
        "elif count == 5:\n",
        "    print('\\033[91m'+'Assassino\\n\\nVocê está preso!!\\033[0;0m')\n",
        "    print('''     ___________________\n",
        "     ||   ||     ||   ||\n",
        "     ||   ||, , ,||   ||\n",
        "     ||  (||/|/(\\||/  ||\n",
        "     ||  ||| _'_`|||  ||\n",
        "     ||   || o o ||   ||\n",
        "     ||  (||  - `||)  ||\n",
        "     ||   ||  =  ||   ||\n",
        "     ||   ||\\___/||   ||\n",
        "     ||___||) , (||___||\n",
        "    /||---||-\\_/-||---||''')\n",
        "else:\n",
        "    print('\\033[34m'+'inocente\\033[0;0m')"
      ],
      "execution_count": null,
      "outputs": []
    }
  ]
}